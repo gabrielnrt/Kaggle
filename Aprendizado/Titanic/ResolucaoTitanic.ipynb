{
 "cells": [
  {
   "cell_type": "markdown",
   "id": "a26de14f-9c06-4786-9a1f-d867b9c0f62c",
   "metadata": {},
   "source": [
    "# Resolução - Titanic"
   ]
  },
  {
   "cell_type": "markdown",
   "id": "7af032bb-0b70-4c1e-b464-aa5bf59553aa",
   "metadata": {},
   "source": [
    "Neste notebook pretendo resolver passo a passo o problema do Titanic."
   ]
  },
  {
   "cell_type": "code",
   "execution_count": null,
   "id": "fe882189-f259-473b-80fd-2008d1862cbc",
   "metadata": {},
   "outputs": [],
   "source": []
  }
 ],
 "metadata": {
  "kernelspec": {
   "display_name": "Python 3 (ipykernel)",
   "language": "python",
   "name": "python3"
  },
  "language_info": {
   "codemirror_mode": {
    "name": "ipython",
    "version": 3
   },
   "file_extension": ".py",
   "mimetype": "text/x-python",
   "name": "python",
   "nbconvert_exporter": "python",
   "pygments_lexer": "ipython3",
   "version": "3.8.10"
  }
 },
 "nbformat": 4,
 "nbformat_minor": 5
}
