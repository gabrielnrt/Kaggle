{
 "cells": [
  {
   "cell_type": "markdown",
   "id": "33252e84-0c05-4294-91c4-28c4af1392d5",
   "metadata": {},
   "source": [
    "# House Prices - Resolução"
   ]
  },
  {
   "cell_type": "markdown",
   "id": "c073d3ab-45cc-4198-9bd2-b5edc7bb6364",
   "metadata": {},
   "source": [
    "## Introdução"
   ]
  },
  {
   "cell_type": "markdown",
   "id": "cfefecce-4302-48d4-82d7-eabdac3be6ba",
   "metadata": {},
   "source": [
    "Este problema é muito similar ao do preço de casas de Boston, contudo o conjunto de dados é mais completo. Para esse projeto, vamos usar o modelo de regressão linear pois as categorias que estão presentes nos dados são bem complexas. Para ver o significado de cada coluna, veja o arquivo 'data_description.txt'. \n",
    "\n",
    "Em particular, as colunas 'GrLivArea' e 'SalePrice' para prever os preços dos imóveis."
   ]
  },
  {
   "cell_type": "markdown",
   "id": "258469dd-77fe-4eb0-acc1-3db09ab46a15",
   "metadata": {},
   "source": [
    "## Importando os dados"
   ]
  },
  {
   "cell_type": "code",
   "execution_count": 62,
   "id": "d516325e-3f23-439a-974c-8a3b143179c7",
   "metadata": {},
   "outputs": [
    {
     "data": {
      "text/html": [
       "<div>\n",
       "<style scoped>\n",
       "    .dataframe tbody tr th:only-of-type {\n",
       "        vertical-align: middle;\n",
       "    }\n",
       "\n",
       "    .dataframe tbody tr th {\n",
       "        vertical-align: top;\n",
       "    }\n",
       "\n",
       "    .dataframe thead th {\n",
       "        text-align: right;\n",
       "    }\n",
       "</style>\n",
       "<table border=\"1\" class=\"dataframe\">\n",
       "  <thead>\n",
       "    <tr style=\"text-align: right;\">\n",
       "      <th></th>\n",
       "      <th>GrLivArea</th>\n",
       "      <th>SalePrice</th>\n",
       "    </tr>\n",
       "  </thead>\n",
       "  <tbody>\n",
       "    <tr>\n",
       "      <th>0</th>\n",
       "      <td>1710</td>\n",
       "      <td>208500</td>\n",
       "    </tr>\n",
       "    <tr>\n",
       "      <th>1</th>\n",
       "      <td>1262</td>\n",
       "      <td>181500</td>\n",
       "    </tr>\n",
       "    <tr>\n",
       "      <th>2</th>\n",
       "      <td>1786</td>\n",
       "      <td>223500</td>\n",
       "    </tr>\n",
       "    <tr>\n",
       "      <th>3</th>\n",
       "      <td>1717</td>\n",
       "      <td>140000</td>\n",
       "    </tr>\n",
       "    <tr>\n",
       "      <th>4</th>\n",
       "      <td>2198</td>\n",
       "      <td>250000</td>\n",
       "    </tr>\n",
       "    <tr>\n",
       "      <th>...</th>\n",
       "      <td>...</td>\n",
       "      <td>...</td>\n",
       "    </tr>\n",
       "    <tr>\n",
       "      <th>1455</th>\n",
       "      <td>1647</td>\n",
       "      <td>175000</td>\n",
       "    </tr>\n",
       "    <tr>\n",
       "      <th>1456</th>\n",
       "      <td>2073</td>\n",
       "      <td>210000</td>\n",
       "    </tr>\n",
       "    <tr>\n",
       "      <th>1457</th>\n",
       "      <td>2340</td>\n",
       "      <td>266500</td>\n",
       "    </tr>\n",
       "    <tr>\n",
       "      <th>1458</th>\n",
       "      <td>1078</td>\n",
       "      <td>142125</td>\n",
       "    </tr>\n",
       "    <tr>\n",
       "      <th>1459</th>\n",
       "      <td>1256</td>\n",
       "      <td>147500</td>\n",
       "    </tr>\n",
       "  </tbody>\n",
       "</table>\n",
       "<p>1460 rows × 2 columns</p>\n",
       "</div>"
      ],
      "text/plain": [
       "      GrLivArea  SalePrice\n",
       "0          1710     208500\n",
       "1          1262     181500\n",
       "2          1786     223500\n",
       "3          1717     140000\n",
       "4          2198     250000\n",
       "...         ...        ...\n",
       "1455       1647     175000\n",
       "1456       2073     210000\n",
       "1457       2340     266500\n",
       "1458       1078     142125\n",
       "1459       1256     147500\n",
       "\n",
       "[1460 rows x 2 columns]"
      ]
     },
     "execution_count": 62,
     "metadata": {},
     "output_type": "execute_result"
    }
   ],
   "source": [
    "from pandas import read_csv, DataFrame\n",
    "\n",
    "# caracteristica = 'OverallQual'\n",
    "# caracteristica = 'TotalBsmtSF'\n",
    "caracteristica = 'GrLivArea'\n",
    "\n",
    "\n",
    "colunas = [caracteristica, 'SalePrice']\n",
    "\n",
    "df = read_csv('train.csv',\n",
    "               usecols = colunas)\n",
    "\n",
    "df"
   ]
  },
  {
   "cell_type": "markdown",
   "id": "6790e653-d9b4-41f8-aea7-9e1d3c46420d",
   "metadata": {},
   "source": [
    "## Partição dos dados"
   ]
  },
  {
   "cell_type": "code",
   "execution_count": 63,
   "id": "f8b70cb5-8d49-4610-b2eb-91e42522bb47",
   "metadata": {},
   "outputs": [
    {
     "data": {
      "text/plain": [
       "array([1710, 1262, 1786, ..., 2340, 1078, 1256])"
      ]
     },
     "execution_count": 63,
     "metadata": {},
     "output_type": "execute_result"
    }
   ],
   "source": [
    "X = df[caracteristica].to_numpy()\n",
    "\n",
    "y = df['SalePrice'].to_numpy()\n",
    "\n",
    "X"
   ]
  },
  {
   "cell_type": "code",
   "execution_count": 46,
   "id": "0c9ff422-c3b1-4245-8188-c04c0c5b176c",
   "metadata": {},
   "outputs": [
    {
     "data": {
      "text/plain": [
       "array([208500, 181500, 223500, ..., 266500, 142125, 147500])"
      ]
     },
     "execution_count": 46,
     "metadata": {},
     "output_type": "execute_result"
    }
   ],
   "source": [
    "y"
   ]
  },
  {
   "cell_type": "markdown",
   "id": "5e7c7ae3-6ab7-4a26-b585-417512a82cdf",
   "metadata": {},
   "source": [
    "## Visualização dos dados"
   ]
  },
  {
   "cell_type": "code",
   "execution_count": 64,
   "id": "826ae4d6-e068-4ae1-b86c-bec43b9198f4",
   "metadata": {},
   "outputs": [
    {
     "data": {
      "image/png": "[encoded data removed]",
      "text/plain": [
       "<Figure size 432x288 with 1 Axes>"
      ]
     },
     "metadata": {
      "needs_background": "light"
     },
     "output_type": "display_data"
    }
   ],
   "source": [
    "from pylab import plot, scatter, show, xlabel, ylabel, title\n",
    "\n",
    "scatter(X,y)\n",
    "xlabel('Área do imóvel')\n",
    "ylabel('Preço do imóvel')\n",
    "show()"
   ]
  },
  {
   "cell_type": "markdown",
   "id": "48ec5af7-5266-4813-a61f-42b805376f50",
   "metadata": {},
   "source": [
    "## Regressão Linear"
   ]
  },
  {
   "cell_type": "code",
   "execution_count": 65,
   "id": "458d972b-8631-41bd-9ffa-edf2534695da",
   "metadata": {},
   "outputs": [
    {
     "data": {
      "image/png": "[encoded data removed]",
      "text/plain": [
       "<Figure size 432x288 with 1 Axes>"
      ]
     },
     "metadata": {
      "needs_background": "light"
     },
     "output_type": "display_data"
    }
   ],
   "source": [
    "from scipy.stats import linregress\n",
    "\n",
    "instancia = linregress(X,y)\n",
    "\n",
    "y0 = instancia.intercept\n",
    "\n",
    "inclinacao = instancia.slope\n",
    "\n",
    "y_modelo = inclinacao*X + y0\n",
    "\n",
    "plot(X, y_modelo, color = 'green')\n",
    "scatter(X,y)\n",
    "xlabel('Área do imóvel')\n",
    "ylabel('Preço do imóvel')\n",
    "show()"
   ]
  },
  {
   "cell_type": "markdown",
   "id": "77ffe15e-3571-4167-97aa-ef5656f7d08d",
   "metadata": {},
   "source": [
    "## Implementação do modelo"
   ]
  },
  {
   "cell_type": "code",
   "execution_count": 67,
   "id": "20e282c4-aef3-4ba9-bc4c-22cd533525a4",
   "metadata": {},
   "outputs": [
    {
     "data": {
      "text/html": [
       "<div>\n",
       "<style scoped>\n",
       "    .dataframe tbody tr th:only-of-type {\n",
       "        vertical-align: middle;\n",
       "    }\n",
       "\n",
       "    .dataframe tbody tr th {\n",
       "        vertical-align: top;\n",
       "    }\n",
       "\n",
       "    .dataframe thead th {\n",
       "        text-align: right;\n",
       "    }\n",
       "</style>\n",
       "<table border=\"1\" class=\"dataframe\">\n",
       "  <thead>\n",
       "    <tr style=\"text-align: right;\">\n",
       "      <th></th>\n",
       "      <th>Id</th>\n",
       "      <th>GrLivArea</th>\n",
       "    </tr>\n",
       "  </thead>\n",
       "  <tbody>\n",
       "    <tr>\n",
       "      <th>0</th>\n",
       "      <td>1461</td>\n",
       "      <td>896</td>\n",
       "    </tr>\n",
       "    <tr>\n",
       "      <th>1</th>\n",
       "      <td>1462</td>\n",
       "      <td>1329</td>\n",
       "    </tr>\n",
       "    <tr>\n",
       "      <th>2</th>\n",
       "      <td>1463</td>\n",
       "      <td>1629</td>\n",
       "    </tr>\n",
       "    <tr>\n",
       "      <th>3</th>\n",
       "      <td>1464</td>\n",
       "      <td>1604</td>\n",
       "    </tr>\n",
       "    <tr>\n",
       "      <th>4</th>\n",
       "      <td>1465</td>\n",
       "      <td>1280</td>\n",
       "    </tr>\n",
       "    <tr>\n",
       "      <th>...</th>\n",
       "      <td>...</td>\n",
       "      <td>...</td>\n",
       "    </tr>\n",
       "    <tr>\n",
       "      <th>1454</th>\n",
       "      <td>2915</td>\n",
       "      <td>1092</td>\n",
       "    </tr>\n",
       "    <tr>\n",
       "      <th>1455</th>\n",
       "      <td>2916</td>\n",
       "      <td>1092</td>\n",
       "    </tr>\n",
       "    <tr>\n",
       "      <th>1456</th>\n",
       "      <td>2917</td>\n",
       "      <td>1224</td>\n",
       "    </tr>\n",
       "    <tr>\n",
       "      <th>1457</th>\n",
       "      <td>2918</td>\n",
       "      <td>970</td>\n",
       "    </tr>\n",
       "    <tr>\n",
       "      <th>1458</th>\n",
       "      <td>2919</td>\n",
       "      <td>2000</td>\n",
       "    </tr>\n",
       "  </tbody>\n",
       "</table>\n",
       "<p>1459 rows × 2 columns</p>\n",
       "</div>"
      ],
      "text/plain": [
       "        Id  GrLivArea\n",
       "0     1461        896\n",
       "1     1462       1329\n",
       "2     1463       1629\n",
       "3     1464       1604\n",
       "4     1465       1280\n",
       "...    ...        ...\n",
       "1454  2915       1092\n",
       "1455  2916       1092\n",
       "1456  2917       1224\n",
       "1457  2918        970\n",
       "1458  2919       2000\n",
       "\n",
       "[1459 rows x 2 columns]"
      ]
     },
     "execution_count": 67,
     "metadata": {},
     "output_type": "execute_result"
    }
   ],
   "source": [
    "df2 = read_csv('test.csv',\n",
    "                usecols = ['Id',caracteristica])\n",
    "\n",
    "df2"
   ]
  },
  {
   "cell_type": "code",
   "execution_count": 68,
   "id": "4e467a5a-b5ad-46f3-ab44-6e34c5fdbdbd",
   "metadata": {},
   "outputs": [],
   "source": [
    "x = df2[caracteristica].to_numpy()\n",
    "\n",
    "previsao = inclinacao*x + y0\n"
   ]
  },
  {
   "cell_type": "code",
   "execution_count": 69,
   "id": "5e8a28e3-7c05-4c7b-a684-773f1cfdb178",
   "metadata": {},
   "outputs": [
    {
     "data": {
      "text/plain": [
       "array([114557.82748987, 160945.27292207, 193084.38061182, ...,\n",
       "       149696.58523066, 122485.47405334, 232829.74378814])"
      ]
     },
     "execution_count": 69,
     "metadata": {},
     "output_type": "execute_result"
    }
   ],
   "source": [
    "previsao"
   ]
  },
  {
   "cell_type": "code",
   "execution_count": 71,
   "id": "e21eedeb-f629-4b34-afab-b129e0f8de83",
   "metadata": {},
   "outputs": [
    {
     "data": {
      "image/png": "[encoded data removed]",
      "text/plain": [
       "<Figure size 432x288 with 1 Axes>"
      ]
     },
     "metadata": {
      "needs_background": "light"
     },
     "output_type": "display_data"
    }
   ],
   "source": [
    "plot(X, y_modelo, color = 'green')\n",
    "scatter(x,previsao)\n",
    "xlabel('Área da garagem')\n",
    "ylabel('Preço do imóvel')\n",
    "show()"
   ]
  },
  {
   "cell_type": "code",
   "execution_count": 74,
   "id": "d70b4e7e-b334-4bab-9d0f-cea352ce1463",
   "metadata": {},
   "outputs": [
    {
     "data": {
      "text/html": [
       "<div>\n",
       "<style scoped>\n",
       "    .dataframe tbody tr th:only-of-type {\n",
       "        vertical-align: middle;\n",
       "    }\n",
       "\n",
       "    .dataframe tbody tr th {\n",
       "        vertical-align: top;\n",
       "    }\n",
       "\n",
       "    .dataframe thead th {\n",
       "        text-align: right;\n",
       "    }\n",
       "</style>\n",
       "<table border=\"1\" class=\"dataframe\">\n",
       "  <thead>\n",
       "    <tr style=\"text-align: right;\">\n",
       "      <th></th>\n",
       "      <th>Id</th>\n",
       "      <th>SalePrice</th>\n",
       "    </tr>\n",
       "  </thead>\n",
       "  <tbody>\n",
       "    <tr>\n",
       "      <th>0</th>\n",
       "      <td>1461</td>\n",
       "      <td>114557.827490</td>\n",
       "    </tr>\n",
       "    <tr>\n",
       "      <th>1</th>\n",
       "      <td>1462</td>\n",
       "      <td>160945.272922</td>\n",
       "    </tr>\n",
       "    <tr>\n",
       "      <th>2</th>\n",
       "      <td>1463</td>\n",
       "      <td>193084.380612</td>\n",
       "    </tr>\n",
       "    <tr>\n",
       "      <th>3</th>\n",
       "      <td>1464</td>\n",
       "      <td>190406.121638</td>\n",
       "    </tr>\n",
       "    <tr>\n",
       "      <th>4</th>\n",
       "      <td>1465</td>\n",
       "      <td>155695.885333</td>\n",
       "    </tr>\n",
       "    <tr>\n",
       "      <th>...</th>\n",
       "      <td>...</td>\n",
       "      <td>...</td>\n",
       "    </tr>\n",
       "    <tr>\n",
       "      <th>1454</th>\n",
       "      <td>2915</td>\n",
       "      <td>135555.377847</td>\n",
       "    </tr>\n",
       "    <tr>\n",
       "      <th>1455</th>\n",
       "      <td>2916</td>\n",
       "      <td>135555.377847</td>\n",
       "    </tr>\n",
       "    <tr>\n",
       "      <th>1456</th>\n",
       "      <td>2917</td>\n",
       "      <td>149696.585231</td>\n",
       "    </tr>\n",
       "    <tr>\n",
       "      <th>1457</th>\n",
       "      <td>2918</td>\n",
       "      <td>122485.474053</td>\n",
       "    </tr>\n",
       "    <tr>\n",
       "      <th>1458</th>\n",
       "      <td>2919</td>\n",
       "      <td>232829.743788</td>\n",
       "    </tr>\n",
       "  </tbody>\n",
       "</table>\n",
       "<p>1459 rows × 2 columns</p>\n",
       "</div>"
      ],
      "text/plain": [
       "        Id      SalePrice\n",
       "0     1461  114557.827490\n",
       "1     1462  160945.272922\n",
       "2     1463  193084.380612\n",
       "3     1464  190406.121638\n",
       "4     1465  155695.885333\n",
       "...    ...            ...\n",
       "1454  2915  135555.377847\n",
       "1455  2916  135555.377847\n",
       "1456  2917  149696.585231\n",
       "1457  2918  122485.474053\n",
       "1458  2919  232829.743788\n",
       "\n",
       "[1459 rows x 2 columns]"
      ]
     },
     "execution_count": 74,
     "metadata": {},
     "output_type": "execute_result"
    }
   ],
   "source": [
    "dicionario = {'Id': df2['Id'], 'SalePrice': previsao}\n",
    "\n",
    "resposta = DataFrame(dicionario)\n",
    "\n",
    "resposta"
   ]
  },
  {
   "cell_type": "code",
   "execution_count": 75,
   "id": "1f3af71d-145c-409a-9f85-15506a504f74",
   "metadata": {},
   "outputs": [],
   "source": [
    "resposta.to_csv('HousePricesResposta.csv',\n",
    "                 index = False)"
   ]
  },
  {
   "cell_type": "code",
   "execution_count": null,
   "id": "34d79b92-0870-4269-8a3c-c61ce14f0015",
   "metadata": {},
   "outputs": [],
   "source": []
  }
 ],
 "metadata": {
  "kernelspec": {
   "display_name": "Python 3 (ipykernel)",
   "language": "python",
   "name": "python3"
  },
  "language_info": {
   "codemirror_mode": {
    "name": "ipython",
    "version": 3
   },
   "file_extension": ".py",
   "mimetype": "text/x-python",
   "name": "python",
   "nbconvert_exporter": "python",
   "pygments_lexer": "ipython3",
   "version": "3.8.10"
  }
 },
 "nbformat": 4,
 "nbformat_minor": 5
}
